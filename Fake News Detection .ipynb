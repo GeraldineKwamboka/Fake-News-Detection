{
 "cells": [
  {
   "cell_type": "code",
   "execution_count": 82,
   "id": "76715ab7",
   "metadata": {},
   "outputs": [
    {
     "name": "stderr",
     "output_type": "stream",
     "text": [
      "[nltk_data] Downloading package stopwords to\n",
      "[nltk_data]     C:\\Users\\HP\\AppData\\Roaming\\nltk_data...\n",
      "[nltk_data]   Package stopwords is already up-to-date!\n"
     ]
    },
    {
     "data": {
      "text/plain": [
       "True"
      ]
     },
     "execution_count": 82,
     "metadata": {},
     "output_type": "execute_result"
    }
   ],
   "source": [
    "import numpy as np #creating numpy arrays\n",
    "import pandas as pd #creating dataframes and storing data in dataframes\n",
    "import re #for searching text in a document\n",
    "from nltk.corpus import stopwords  #removes words that don't add value to the article\n",
    "from nltk.stem.porter import PorterStemmer\n",
    "from sklearn.feature_extraction.text import TfidfVectorizer #converts texts into numbers\n",
    "from sklearn.model_selection import train_test_split #splits data into training and testing\n",
    "from sklearn.linear_model import LogisticRegression\n",
    "from sklearn.metrics import accuracy_score\n",
    "import nltk\n",
    "nltk.download('stopwords')"
   ]
  },
  {
   "cell_type": "code",
   "execution_count": 28,
   "id": "1c5e4d8a",
   "metadata": {},
   "outputs": [
    {
     "name": "stdout",
     "output_type": "stream",
     "text": [
      "['i', 'me', 'my', 'myself', 'we', 'our', 'ours', 'ourselves', 'you', \"you're\", \"you've\", \"you'll\", \"you'd\", 'your', 'yours', 'yourself', 'yourselves', 'he', 'him', 'his', 'himself', 'she', \"she's\", 'her', 'hers', 'herself', 'it', \"it's\", 'its', 'itself', 'they', 'them', 'their', 'theirs', 'themselves', 'what', 'which', 'who', 'whom', 'this', 'that', \"that'll\", 'these', 'those', 'am', 'is', 'are', 'was', 'were', 'be', 'been', 'being', 'have', 'has', 'had', 'having', 'do', 'does', 'did', 'doing', 'a', 'an', 'the', 'and', 'but', 'if', 'or', 'because', 'as', 'until', 'while', 'of', 'at', 'by', 'for', 'with', 'about', 'against', 'between', 'into', 'through', 'during', 'before', 'after', 'above', 'below', 'to', 'from', 'up', 'down', 'in', 'out', 'on', 'off', 'over', 'under', 'again', 'further', 'then', 'once', 'here', 'there', 'when', 'where', 'why', 'how', 'all', 'any', 'both', 'each', 'few', 'more', 'most', 'other', 'some', 'such', 'no', 'nor', 'not', 'only', 'own', 'same', 'so', 'than', 'too', 'very', 's', 't', 'can', 'will', 'just', 'don', \"don't\", 'should', \"should've\", 'now', 'd', 'll', 'm', 'o', 're', 've', 'y', 'ain', 'aren', \"aren't\", 'couldn', \"couldn't\", 'didn', \"didn't\", 'doesn', \"doesn't\", 'hadn', \"hadn't\", 'hasn', \"hasn't\", 'haven', \"haven't\", 'isn', \"isn't\", 'ma', 'mightn', \"mightn't\", 'mustn', \"mustn't\", 'needn', \"needn't\", 'shan', \"shan't\", 'shouldn', \"shouldn't\", 'wasn', \"wasn't\", 'weren', \"weren't\", 'won', \"won't\", 'wouldn', \"wouldn't\"]\n"
     ]
    }
   ],
   "source": [
    "print(stopwords.words('english'))"
   ]
  },
  {
   "cell_type": "markdown",
   "id": "e5b178e8",
   "metadata": {},
   "source": [
    "## Data Preprocessing\n"
   ]
  },
  {
   "cell_type": "code",
   "execution_count": 29,
   "id": "0d92239b",
   "metadata": {},
   "outputs": [
    {
     "name": "stderr",
     "output_type": "stream",
     "text": [
      "C:\\Users\\HP\\AppData\\Local\\Temp\\ipykernel_4224\\3529583518.py:3: DtypeWarning: Columns (0,4,5,6,7,8,9,10,11,12,13,14,15,16,17,18,19,20,21,22,23,24,25,26,27,28,29,30,31,32,33,34,35,36,37,38,39,40,41,42,43,44,45,46,47,48,49,50,51,52,53,54,55,56,57,58,59,60,61,62,63,64,65,66,67,68,69,70,71,72,73,74,75,76,77,78,79,80,81,82,83,84,85,86,87,88,89,90,91,92,93,94,95,96,97,98,99,100,101,102,103,104,105,106,107,108,109,110,111,112,113,114,115,116,117,118,119,120,121,122,123,124,125,126,127,128,129,130,131,132,133,134,135,136,137,138,139,140,141,142,143,144,145,146,147,148,149,150,151,152,153,154,155,156,157,158,159,160,161,162,163,164,165,166,167,168,169,170,171,172,173,174,175,176,177,178,179,180,181,182,183,184,185,186,187,188,189,190,191,192,193,194,195,196,197,198,199,200,201,202,203,204,205,206,207,208,209,210,211,212,213,214,215,216,217,218,219,220,221,222,223,224,225,226,227,228,229,230,231,232,233,234,235,236,237,238,239,240,241,242,243,244,245,246,247,248,249,250,251,252,253,254,255,256,257,258,259,260,261,262,263,264,265,266,267,268,269,270,271,272,273,274,275,276,277,278,279,280,281,282,283,284,285,286,287,288,289,290,291,292,293,294,295,296,297,298,299,300,301,302,303,304,305,306,307,308,309,310,311,312,313,314,315,316,317,318,319,320,321,322,323,324,325,326,327,328,329,330,331,332,333,334,335,336,337,338,339,340,341,342,343,344,345,346,347,348,349,350,351,352,353,354,355,356,357,358,359,360,361,362,363,364,365,366,367,368,369,370,371,372,373,374,375,376,377,378,379,380,381,382,383,384,385,386,387,388,389,390,391,392,393,394,395,396,397,398,399,400,401,402,403,404,405,406,407,408,409,410,411,412,413,414,415,416,417,418,419,420,421,422,423,424,425,426,427,428,429,430,431,432,433,434,435,436,437,438,439,440,441,442,443,444,445,446,447,448,449,450,451,452,453,454,455,456,457,458,459,460,461,462,463,464,465,466,467,468,469,470,471,472,473,474,475,476,477,478,479,480,481,482,483,484,485,486,487,488,489,490,491,492,493,494,495,496,497,498,499,500,501,502,503,504,505,506,507,508,509,510,511,512,513,514,515,516,517,518,519,520,521,522,523,524,525,526,527,528,529,530,531,532,533,534,535,536,537,538,539,540,541,542,544,545,546,547,548,549,550,551,552,553,554,555,557,558,559,560,562,563,567,568,569,570,571,572,573,575,576,577,578,579,580,582,583,584,586,587,588,589,590,591,593,594,595,596,597,598,599,600,602,603,604,605,606,608,609,610,611,613,614,615,616,618,619,620,622,623,624,626,627,628,629,630,631,632,633,634,635,636,637,638,639,640,641,642,643,644,645,646,647,648,649,650,651,652,653,655,656,657,658,659,660,661,662,663,664,665,666,667,668,669,670,671,672,673,674,676,677,678,679,680,681,682,684) have mixed types. Specify dtype option on import or set low_memory=False.\n",
      "  news_dataset = pd.read_csv(\"C:\\\\Users\\\\HP\\\\Documents\\\\train.csv\", encoding='latin1')\n"
     ]
    }
   ],
   "source": [
    "#loading the dataset\n",
    "\n",
    "news_dataset = pd.read_csv(\"C:\\\\Users\\\\HP\\\\Documents\\\\train.csv\", encoding='latin1')\n"
   ]
  },
  {
   "cell_type": "code",
   "execution_count": 30,
   "id": "ab151855",
   "metadata": {},
   "outputs": [
    {
     "data": {
      "text/plain": [
       "(25116, 686)"
      ]
     },
     "execution_count": 30,
     "metadata": {},
     "output_type": "execute_result"
    }
   ],
   "source": [
    "news_dataset.shape"
   ]
  },
  {
   "cell_type": "code",
   "execution_count": 31,
   "id": "a8d3d72a",
   "metadata": {},
   "outputs": [
    {
     "data": {
      "text/html": [
       "<div>\n",
       "<style scoped>\n",
       "    .dataframe tbody tr th:only-of-type {\n",
       "        vertical-align: middle;\n",
       "    }\n",
       "\n",
       "    .dataframe tbody tr th {\n",
       "        vertical-align: top;\n",
       "    }\n",
       "\n",
       "    .dataframe thead th {\n",
       "        text-align: right;\n",
       "    }\n",
       "</style>\n",
       "<table border=\"1\" class=\"dataframe\">\n",
       "  <thead>\n",
       "    <tr style=\"text-align: right;\">\n",
       "      <th></th>\n",
       "      <th>id</th>\n",
       "      <th>title</th>\n",
       "      <th>author</th>\n",
       "      <th>text</th>\n",
       "      <th>label</th>\n",
       "      <th>Unnamed: 5</th>\n",
       "      <th>Unnamed: 6</th>\n",
       "      <th>Unnamed: 7</th>\n",
       "      <th>Unnamed: 8</th>\n",
       "      <th>Unnamed: 9</th>\n",
       "      <th>...</th>\n",
       "      <th>Unnamed: 676</th>\n",
       "      <th>Unnamed: 677</th>\n",
       "      <th>Unnamed: 678</th>\n",
       "      <th>Unnamed: 679</th>\n",
       "      <th>Unnamed: 680</th>\n",
       "      <th>Unnamed: 681</th>\n",
       "      <th>Unnamed: 682</th>\n",
       "      <th>Unnamed: 683</th>\n",
       "      <th>Unnamed: 684</th>\n",
       "      <th>Unnamed: 685</th>\n",
       "    </tr>\n",
       "  </thead>\n",
       "  <tbody>\n",
       "    <tr>\n",
       "      <th>0</th>\n",
       "      <td>0</td>\n",
       "      <td>House Dem Aide: We Didnât Even See Comeyâs...</td>\n",
       "      <td>Darrell Lucus</td>\n",
       "      <td>House Dem Aide: We Didnât Even See Comeyâs...</td>\n",
       "      <td>1</td>\n",
       "      <td>NaN</td>\n",
       "      <td>NaN</td>\n",
       "      <td>NaN</td>\n",
       "      <td>NaN</td>\n",
       "      <td>NaN</td>\n",
       "      <td>...</td>\n",
       "      <td>NaN</td>\n",
       "      <td>NaN</td>\n",
       "      <td>NaN</td>\n",
       "      <td>NaN</td>\n",
       "      <td>NaN</td>\n",
       "      <td>NaN</td>\n",
       "      <td>NaN</td>\n",
       "      <td>NaN</td>\n",
       "      <td>NaN</td>\n",
       "      <td>NaN</td>\n",
       "    </tr>\n",
       "    <tr>\n",
       "      <th>1</th>\n",
       "      <td>1</td>\n",
       "      <td>FLYNN: Hillary Clinton, Big Woman on Campus - ...</td>\n",
       "      <td>Daniel J. Flynn</td>\n",
       "      <td>Ever get the feeling your life circles the rou...</td>\n",
       "      <td>0</td>\n",
       "      <td>NaN</td>\n",
       "      <td>NaN</td>\n",
       "      <td>NaN</td>\n",
       "      <td>NaN</td>\n",
       "      <td>NaN</td>\n",
       "      <td>...</td>\n",
       "      <td>NaN</td>\n",
       "      <td>NaN</td>\n",
       "      <td>NaN</td>\n",
       "      <td>NaN</td>\n",
       "      <td>NaN</td>\n",
       "      <td>NaN</td>\n",
       "      <td>NaN</td>\n",
       "      <td>NaN</td>\n",
       "      <td>NaN</td>\n",
       "      <td>NaN</td>\n",
       "    </tr>\n",
       "    <tr>\n",
       "      <th>2</th>\n",
       "      <td>2</td>\n",
       "      <td>Why the Truth Might Get You Fired</td>\n",
       "      <td>Consortiumnews.com</td>\n",
       "      <td>Why the Truth Might Get You Fired October 29, ...</td>\n",
       "      <td>1</td>\n",
       "      <td>NaN</td>\n",
       "      <td>NaN</td>\n",
       "      <td>NaN</td>\n",
       "      <td>NaN</td>\n",
       "      <td>NaN</td>\n",
       "      <td>...</td>\n",
       "      <td>NaN</td>\n",
       "      <td>NaN</td>\n",
       "      <td>NaN</td>\n",
       "      <td>NaN</td>\n",
       "      <td>NaN</td>\n",
       "      <td>NaN</td>\n",
       "      <td>NaN</td>\n",
       "      <td>NaN</td>\n",
       "      <td>NaN</td>\n",
       "      <td>NaN</td>\n",
       "    </tr>\n",
       "    <tr>\n",
       "      <th>3</th>\n",
       "      <td>3</td>\n",
       "      <td>15 Civilians Killed In Single US Airstrike Hav...</td>\n",
       "      <td>Jessica Purkiss</td>\n",
       "      <td>Videos 15 Civilians Killed In Single US Airstr...</td>\n",
       "      <td>1</td>\n",
       "      <td>NaN</td>\n",
       "      <td>NaN</td>\n",
       "      <td>NaN</td>\n",
       "      <td>NaN</td>\n",
       "      <td>NaN</td>\n",
       "      <td>...</td>\n",
       "      <td>NaN</td>\n",
       "      <td>NaN</td>\n",
       "      <td>NaN</td>\n",
       "      <td>NaN</td>\n",
       "      <td>NaN</td>\n",
       "      <td>NaN</td>\n",
       "      <td>NaN</td>\n",
       "      <td>NaN</td>\n",
       "      <td>NaN</td>\n",
       "      <td>NaN</td>\n",
       "    </tr>\n",
       "    <tr>\n",
       "      <th>4</th>\n",
       "      <td>4</td>\n",
       "      <td>Iranian woman jailed for fictional unpublished...</td>\n",
       "      <td>Howard Portnoy</td>\n",
       "      <td>Print \\nAn Iranian woman has been sentenced to...</td>\n",
       "      <td>1</td>\n",
       "      <td>NaN</td>\n",
       "      <td>NaN</td>\n",
       "      <td>NaN</td>\n",
       "      <td>NaN</td>\n",
       "      <td>NaN</td>\n",
       "      <td>...</td>\n",
       "      <td>NaN</td>\n",
       "      <td>NaN</td>\n",
       "      <td>NaN</td>\n",
       "      <td>NaN</td>\n",
       "      <td>NaN</td>\n",
       "      <td>NaN</td>\n",
       "      <td>NaN</td>\n",
       "      <td>NaN</td>\n",
       "      <td>NaN</td>\n",
       "      <td>NaN</td>\n",
       "    </tr>\n",
       "  </tbody>\n",
       "</table>\n",
       "<p>5 rows × 686 columns</p>\n",
       "</div>"
      ],
      "text/plain": [
       "  id                                              title              author  \\\n",
       "0  0  House Dem Aide: We Didnât Even See Comeyâs...       Darrell Lucus   \n",
       "1  1  FLYNN: Hillary Clinton, Big Woman on Campus - ...     Daniel J. Flynn   \n",
       "2  2                  Why the Truth Might Get You Fired  Consortiumnews.com   \n",
       "3  3  15 Civilians Killed In Single US Airstrike Hav...     Jessica Purkiss   \n",
       "4  4  Iranian woman jailed for fictional unpublished...      Howard Portnoy   \n",
       "\n",
       "                                                text label Unnamed: 5  \\\n",
       "0  House Dem Aide: We Didnât Even See Comeyâs...     1        NaN   \n",
       "1  Ever get the feeling your life circles the rou...     0        NaN   \n",
       "2  Why the Truth Might Get You Fired October 29, ...     1        NaN   \n",
       "3  Videos 15 Civilians Killed In Single US Airstr...     1        NaN   \n",
       "4  Print \\nAn Iranian woman has been sentenced to...     1        NaN   \n",
       "\n",
       "  Unnamed: 6 Unnamed: 7 Unnamed: 8 Unnamed: 9  ... Unnamed: 676 Unnamed: 677  \\\n",
       "0        NaN        NaN        NaN        NaN  ...          NaN          NaN   \n",
       "1        NaN        NaN        NaN        NaN  ...          NaN          NaN   \n",
       "2        NaN        NaN        NaN        NaN  ...          NaN          NaN   \n",
       "3        NaN        NaN        NaN        NaN  ...          NaN          NaN   \n",
       "4        NaN        NaN        NaN        NaN  ...          NaN          NaN   \n",
       "\n",
       "  Unnamed: 678 Unnamed: 679 Unnamed: 680 Unnamed: 681 Unnamed: 682  \\\n",
       "0          NaN          NaN          NaN          NaN          NaN   \n",
       "1          NaN          NaN          NaN          NaN          NaN   \n",
       "2          NaN          NaN          NaN          NaN          NaN   \n",
       "3          NaN          NaN          NaN          NaN          NaN   \n",
       "4          NaN          NaN          NaN          NaN          NaN   \n",
       "\n",
       "  Unnamed: 683 Unnamed: 684 Unnamed: 685  \n",
       "0          NaN          NaN          NaN  \n",
       "1          NaN          NaN          NaN  \n",
       "2          NaN          NaN          NaN  \n",
       "3          NaN          NaN          NaN  \n",
       "4          NaN          NaN          NaN  \n",
       "\n",
       "[5 rows x 686 columns]"
      ]
     },
     "execution_count": 31,
     "metadata": {},
     "output_type": "execute_result"
    }
   ],
   "source": [
    "news_dataset.head()"
   ]
  },
  {
   "cell_type": "code",
   "execution_count": 32,
   "id": "0984bbb8",
   "metadata": {},
   "outputs": [
    {
     "data": {
      "text/plain": [
       "id                  3\n",
       "title            2250\n",
       "author           4542\n",
       "text             3079\n",
       "label            3446\n",
       "                ...  \n",
       "Unnamed: 681    25115\n",
       "Unnamed: 682    25115\n",
       "Unnamed: 683    25115\n",
       "Unnamed: 684    25115\n",
       "Unnamed: 685    25115\n",
       "Length: 686, dtype: int64"
      ]
     },
     "execution_count": 32,
     "metadata": {},
     "output_type": "execute_result"
    }
   ],
   "source": [
    "#counting the number of missing values in the dataset\n",
    "\n",
    "news_dataset.isnull().sum()"
   ]
  },
  {
   "cell_type": "code",
   "execution_count": 33,
   "id": "a3c768e9",
   "metadata": {},
   "outputs": [],
   "source": [
    "#replacing the null values with empty string\n",
    "\n",
    "news_dataset= news_dataset.fillna(' ')"
   ]
  },
  {
   "cell_type": "code",
   "execution_count": 34,
   "id": "4c78bb7f",
   "metadata": {},
   "outputs": [
    {
     "name": "stderr",
     "output_type": "stream",
     "text": [
      "C:\\Users\\HP\\AppData\\Local\\Temp\\ipykernel_4224\\2317422578.py:3: PerformanceWarning: DataFrame is highly fragmented.  This is usually the result of calling `frame.insert` many times, which has poor performance.  Consider joining all columns at once using pd.concat(axis=1) instead. To get a de-fragmented frame, use `newframe = frame.copy()`\n",
      "  news_dataset['content'] = news_dataset['author'] + ' ' + news_dataset['title']\n"
     ]
    }
   ],
   "source": [
    "# merging the author name and news title\n",
    "\n",
    "news_dataset['content'] = news_dataset['author'] + ' ' + news_dataset['title']\n"
   ]
  },
  {
   "cell_type": "code",
   "execution_count": 35,
   "id": "652d0b4d",
   "metadata": {},
   "outputs": [
    {
     "name": "stdout",
     "output_type": "stream",
     "text": [
      "0        Darrell Lucus House Dem Aide: We Didnât Even...\n",
      "1        Daniel J. Flynn FLYNN: Hillary Clinton, Big Wo...\n",
      "2        Consortiumnews.com Why the Truth Might Get You...\n",
      "3        Jessica Purkiss 15 Civilians Killed In Single ...\n",
      "4        Howard Portnoy Iranian woman jailed for fictio...\n",
      "                               ...                        \n",
      "25111    Jerome Hudson Rapper T.I.: Trump a âPoster C...\n",
      "25112    Benjamin Hoffman N.F.L. Playoffs: Schedule, Ma...\n",
      "25113    Michael J. de la Merced and Rachel Abrams Macy...\n",
      "25114    Alex Ansary NATO, Russia To Hold Parallel Exer...\n",
      "25115              David Swanson What Keeps the F-35 Alive\n",
      "Name: content, Length: 25116, dtype: object\n"
     ]
    }
   ],
   "source": [
    "print(news_dataset['content'])"
   ]
  },
  {
   "cell_type": "code",
   "execution_count": 36,
   "id": "efa59f85",
   "metadata": {},
   "outputs": [
    {
     "name": "stdout",
     "output_type": "stream",
     "text": [
      "Index(['id', 'title', 'author', 'text', 'label', 'Unnamed: 5', 'Unnamed: 6',\n",
      "       'Unnamed: 7', 'Unnamed: 8', 'Unnamed: 9',\n",
      "       ...\n",
      "       'Unnamed: 677', 'Unnamed: 678', 'Unnamed: 679', 'Unnamed: 680',\n",
      "       'Unnamed: 681', 'Unnamed: 682', 'Unnamed: 683', 'Unnamed: 684',\n",
      "       'Unnamed: 685', 'content'],\n",
      "      dtype='object', length=687)\n"
     ]
    }
   ],
   "source": [
    "# separating the data & label\n",
    "\n",
    "print(news_dataset.columns)"
   ]
  },
  {
   "cell_type": "code",
   "execution_count": 37,
   "id": "e5f8678b",
   "metadata": {},
   "outputs": [],
   "source": [
    "X = news_dataset[['author', 'title', 'content']]\n",
    "Y = news_dataset['label']\n"
   ]
  },
  {
   "cell_type": "code",
   "execution_count": 38,
   "id": "e276cde7",
   "metadata": {},
   "outputs": [
    {
     "data": {
      "text/html": [
       "<div>\n",
       "<style scoped>\n",
       "    .dataframe tbody tr th:only-of-type {\n",
       "        vertical-align: middle;\n",
       "    }\n",
       "\n",
       "    .dataframe tbody tr th {\n",
       "        vertical-align: top;\n",
       "    }\n",
       "\n",
       "    .dataframe thead th {\n",
       "        text-align: right;\n",
       "    }\n",
       "</style>\n",
       "<table border=\"1\" class=\"dataframe\">\n",
       "  <thead>\n",
       "    <tr style=\"text-align: right;\">\n",
       "      <th></th>\n",
       "      <th>id</th>\n",
       "      <th>title</th>\n",
       "      <th>author</th>\n",
       "      <th>text</th>\n",
       "      <th>label</th>\n",
       "      <th>Unnamed: 5</th>\n",
       "      <th>Unnamed: 6</th>\n",
       "      <th>Unnamed: 7</th>\n",
       "      <th>Unnamed: 8</th>\n",
       "      <th>Unnamed: 9</th>\n",
       "      <th>...</th>\n",
       "      <th>Unnamed: 677</th>\n",
       "      <th>Unnamed: 678</th>\n",
       "      <th>Unnamed: 679</th>\n",
       "      <th>Unnamed: 680</th>\n",
       "      <th>Unnamed: 681</th>\n",
       "      <th>Unnamed: 682</th>\n",
       "      <th>Unnamed: 683</th>\n",
       "      <th>Unnamed: 684</th>\n",
       "      <th>Unnamed: 685</th>\n",
       "      <th>content</th>\n",
       "    </tr>\n",
       "  </thead>\n",
       "  <tbody>\n",
       "    <tr>\n",
       "      <th>0</th>\n",
       "      <td>0</td>\n",
       "      <td>House Dem Aide: We Didnât Even See Comeyâs...</td>\n",
       "      <td>Darrell Lucus</td>\n",
       "      <td>House Dem Aide: We Didnât Even See Comeyâs...</td>\n",
       "      <td>1</td>\n",
       "      <td></td>\n",
       "      <td></td>\n",
       "      <td></td>\n",
       "      <td></td>\n",
       "      <td></td>\n",
       "      <td>...</td>\n",
       "      <td></td>\n",
       "      <td></td>\n",
       "      <td></td>\n",
       "      <td></td>\n",
       "      <td></td>\n",
       "      <td></td>\n",
       "      <td></td>\n",
       "      <td></td>\n",
       "      <td></td>\n",
       "      <td>Darrell Lucus House Dem Aide: We Didnât Even...</td>\n",
       "    </tr>\n",
       "    <tr>\n",
       "      <th>1</th>\n",
       "      <td>1</td>\n",
       "      <td>FLYNN: Hillary Clinton, Big Woman on Campus - ...</td>\n",
       "      <td>Daniel J. Flynn</td>\n",
       "      <td>Ever get the feeling your life circles the rou...</td>\n",
       "      <td>0</td>\n",
       "      <td></td>\n",
       "      <td></td>\n",
       "      <td></td>\n",
       "      <td></td>\n",
       "      <td></td>\n",
       "      <td>...</td>\n",
       "      <td></td>\n",
       "      <td></td>\n",
       "      <td></td>\n",
       "      <td></td>\n",
       "      <td></td>\n",
       "      <td></td>\n",
       "      <td></td>\n",
       "      <td></td>\n",
       "      <td></td>\n",
       "      <td>Daniel J. Flynn FLYNN: Hillary Clinton, Big Wo...</td>\n",
       "    </tr>\n",
       "    <tr>\n",
       "      <th>2</th>\n",
       "      <td>2</td>\n",
       "      <td>Why the Truth Might Get You Fired</td>\n",
       "      <td>Consortiumnews.com</td>\n",
       "      <td>Why the Truth Might Get You Fired October 29, ...</td>\n",
       "      <td>1</td>\n",
       "      <td></td>\n",
       "      <td></td>\n",
       "      <td></td>\n",
       "      <td></td>\n",
       "      <td></td>\n",
       "      <td>...</td>\n",
       "      <td></td>\n",
       "      <td></td>\n",
       "      <td></td>\n",
       "      <td></td>\n",
       "      <td></td>\n",
       "      <td></td>\n",
       "      <td></td>\n",
       "      <td></td>\n",
       "      <td></td>\n",
       "      <td>Consortiumnews.com Why the Truth Might Get You...</td>\n",
       "    </tr>\n",
       "    <tr>\n",
       "      <th>3</th>\n",
       "      <td>3</td>\n",
       "      <td>15 Civilians Killed In Single US Airstrike Hav...</td>\n",
       "      <td>Jessica Purkiss</td>\n",
       "      <td>Videos 15 Civilians Killed In Single US Airstr...</td>\n",
       "      <td>1</td>\n",
       "      <td></td>\n",
       "      <td></td>\n",
       "      <td></td>\n",
       "      <td></td>\n",
       "      <td></td>\n",
       "      <td>...</td>\n",
       "      <td></td>\n",
       "      <td></td>\n",
       "      <td></td>\n",
       "      <td></td>\n",
       "      <td></td>\n",
       "      <td></td>\n",
       "      <td></td>\n",
       "      <td></td>\n",
       "      <td></td>\n",
       "      <td>Jessica Purkiss 15 Civilians Killed In Single ...</td>\n",
       "    </tr>\n",
       "    <tr>\n",
       "      <th>4</th>\n",
       "      <td>4</td>\n",
       "      <td>Iranian woman jailed for fictional unpublished...</td>\n",
       "      <td>Howard Portnoy</td>\n",
       "      <td>Print \\nAn Iranian woman has been sentenced to...</td>\n",
       "      <td>1</td>\n",
       "      <td></td>\n",
       "      <td></td>\n",
       "      <td></td>\n",
       "      <td></td>\n",
       "      <td></td>\n",
       "      <td>...</td>\n",
       "      <td></td>\n",
       "      <td></td>\n",
       "      <td></td>\n",
       "      <td></td>\n",
       "      <td></td>\n",
       "      <td></td>\n",
       "      <td></td>\n",
       "      <td></td>\n",
       "      <td></td>\n",
       "      <td>Howard Portnoy Iranian woman jailed for fictio...</td>\n",
       "    </tr>\n",
       "  </tbody>\n",
       "</table>\n",
       "<p>5 rows × 687 columns</p>\n",
       "</div>"
      ],
      "text/plain": [
       "  id                                              title              author  \\\n",
       "0  0  House Dem Aide: We Didnât Even See Comeyâs...       Darrell Lucus   \n",
       "1  1  FLYNN: Hillary Clinton, Big Woman on Campus - ...     Daniel J. Flynn   \n",
       "2  2                  Why the Truth Might Get You Fired  Consortiumnews.com   \n",
       "3  3  15 Civilians Killed In Single US Airstrike Hav...     Jessica Purkiss   \n",
       "4  4  Iranian woman jailed for fictional unpublished...      Howard Portnoy   \n",
       "\n",
       "                                                text label Unnamed: 5  \\\n",
       "0  House Dem Aide: We Didnât Even See Comeyâs...     1              \n",
       "1  Ever get the feeling your life circles the rou...     0              \n",
       "2  Why the Truth Might Get You Fired October 29, ...     1              \n",
       "3  Videos 15 Civilians Killed In Single US Airstr...     1              \n",
       "4  Print \\nAn Iranian woman has been sentenced to...     1              \n",
       "\n",
       "  Unnamed: 6 Unnamed: 7 Unnamed: 8 Unnamed: 9  ... Unnamed: 677 Unnamed: 678  \\\n",
       "0                                              ...                             \n",
       "1                                              ...                             \n",
       "2                                              ...                             \n",
       "3                                              ...                             \n",
       "4                                              ...                             \n",
       "\n",
       "  Unnamed: 679 Unnamed: 680 Unnamed: 681 Unnamed: 682 Unnamed: 683  \\\n",
       "0                                                                    \n",
       "1                                                                    \n",
       "2                                                                    \n",
       "3                                                                    \n",
       "4                                                                    \n",
       "\n",
       "  Unnamed: 684 Unnamed: 685                                            content  \n",
       "0                            Darrell Lucus House Dem Aide: We Didnât Even...  \n",
       "1                            Daniel J. Flynn FLYNN: Hillary Clinton, Big Wo...  \n",
       "2                            Consortiumnews.com Why the Truth Might Get You...  \n",
       "3                            Jessica Purkiss 15 Civilians Killed In Single ...  \n",
       "4                            Howard Portnoy Iranian woman jailed for fictio...  \n",
       "\n",
       "[5 rows x 687 columns]"
      ]
     },
     "execution_count": 38,
     "metadata": {},
     "output_type": "execute_result"
    }
   ],
   "source": [
    "news_dataset.head()\n"
   ]
  },
  {
   "cell_type": "code",
   "execution_count": 39,
   "id": "f0e430eb",
   "metadata": {},
   "outputs": [],
   "source": [
    "# separating the data & label\n",
    "\n",
    "X = news_dataset.drop(columns='label', axis=1)\n",
    "Y = news_dataset['label']\n"
   ]
  },
  {
   "cell_type": "code",
   "execution_count": 40,
   "id": "026c5b88",
   "metadata": {},
   "outputs": [
    {
     "name": "stdout",
     "output_type": "stream",
     "text": [
      "          id                                              title  \\\n",
      "0          0  House Dem Aide: We Didnât Even See Comeyâs...   \n",
      "1          1  FLYNN: Hillary Clinton, Big Woman on Campus - ...   \n",
      "2          2                  Why the Truth Might Get You Fired   \n",
      "3          3  15 Civilians Killed In Single US Airstrike Hav...   \n",
      "4          4  Iranian woman jailed for fictional unpublished...   \n",
      "...      ...                                                ...   \n",
      "25111  20795  Rapper T.I.: Trump a âPoster Child For White...   \n",
      "25112  20796  N.F.L. Playoffs: Schedule, Matchups and Odds -...   \n",
      "25113  20797  Macyâs Is Said to Receive Takeover Approach ...   \n",
      "25114  20798  NATO, Russia To Hold Parallel Exercises In Bal...   \n",
      "25115  20799                          What Keeps the F-35 Alive   \n",
      "\n",
      "                                          author  \\\n",
      "0                                  Darrell Lucus   \n",
      "1                                Daniel J. Flynn   \n",
      "2                             Consortiumnews.com   \n",
      "3                                Jessica Purkiss   \n",
      "4                                 Howard Portnoy   \n",
      "...                                          ...   \n",
      "25111                              Jerome Hudson   \n",
      "25112                           Benjamin Hoffman   \n",
      "25113  Michael J. de la Merced and Rachel Abrams   \n",
      "25114                                Alex Ansary   \n",
      "25115                              David Swanson   \n",
      "\n",
      "                                                    text Unnamed: 5  \\\n",
      "0      House Dem Aide: We Didnât Even See Comeyâs...              \n",
      "1      Ever get the feeling your life circles the rou...              \n",
      "2      Why the Truth Might Get You Fired October 29, ...              \n",
      "3      Videos 15 Civilians Killed In Single US Airstr...              \n",
      "4      Print \\nAn Iranian woman has been sentenced to...              \n",
      "...                                                  ...        ...   \n",
      "25111  Rapper T. I. unloaded on black celebrities who...              \n",
      "25112  When the Green Bay Packers lost to the Washing...              \n",
      "25113  The Macyâs of today grew from the union of s...              \n",
      "25114  NATO, Russia To Hold Parallel Exercises In Bal...              \n",
      "25115    David Swanson is an author, activist, journa...              \n",
      "\n",
      "      Unnamed: 6 Unnamed: 7 Unnamed: 8 Unnamed: 9 Unnamed: 10  ...  \\\n",
      "0                                                              ...   \n",
      "1                                                              ...   \n",
      "2                                                              ...   \n",
      "3                                                              ...   \n",
      "4                                                              ...   \n",
      "...          ...        ...        ...        ...         ...  ...   \n",
      "25111                                                          ...   \n",
      "25112                                                          ...   \n",
      "25113                                                          ...   \n",
      "25114                                                          ...   \n",
      "25115                                                          ...   \n",
      "\n",
      "      Unnamed: 677 Unnamed: 678 Unnamed: 679 Unnamed: 680 Unnamed: 681  \\\n",
      "0                                                                        \n",
      "1                                                                        \n",
      "2                                                                        \n",
      "3                                                                        \n",
      "4                                                                        \n",
      "...            ...          ...          ...          ...          ...   \n",
      "25111                                                                    \n",
      "25112                                                                    \n",
      "25113                                                                    \n",
      "25114                                                                    \n",
      "25115                                                                    \n",
      "\n",
      "      Unnamed: 682 Unnamed: 683 Unnamed: 684 Unnamed: 685  \\\n",
      "0                                                           \n",
      "1                                                           \n",
      "2                                                           \n",
      "3                                                           \n",
      "4                                                           \n",
      "...            ...          ...          ...          ...   \n",
      "25111                                                       \n",
      "25112                                                       \n",
      "25113                                                       \n",
      "25114                                                       \n",
      "25115                                                       \n",
      "\n",
      "                                                 content  \n",
      "0      Darrell Lucus House Dem Aide: We Didnât Even...  \n",
      "1      Daniel J. Flynn FLYNN: Hillary Clinton, Big Wo...  \n",
      "2      Consortiumnews.com Why the Truth Might Get You...  \n",
      "3      Jessica Purkiss 15 Civilians Killed In Single ...  \n",
      "4      Howard Portnoy Iranian woman jailed for fictio...  \n",
      "...                                                  ...  \n",
      "25111  Jerome Hudson Rapper T.I.: Trump a âPoster C...  \n",
      "25112  Benjamin Hoffman N.F.L. Playoffs: Schedule, Ma...  \n",
      "25113  Michael J. de la Merced and Rachel Abrams Macy...  \n",
      "25114  Alex Ansary NATO, Russia To Hold Parallel Exer...  \n",
      "25115            David Swanson What Keeps the F-35 Alive  \n",
      "\n",
      "[25116 rows x 686 columns]\n",
      "0        1\n",
      "1        0\n",
      "2        1\n",
      "3        1\n",
      "4        1\n",
      "        ..\n",
      "25111    0\n",
      "25112    0\n",
      "25113    0\n",
      "25114    1\n",
      "25115    1\n",
      "Name: label, Length: 25116, dtype: object\n"
     ]
    }
   ],
   "source": [
    "print(X)\n",
    "print(Y)"
   ]
  },
  {
   "cell_type": "markdown",
   "id": "179a8c7e",
   "metadata": {},
   "source": [
    "## Stemming "
   ]
  },
  {
   "cell_type": "code",
   "execution_count": 45,
   "id": "4d0aabf2",
   "metadata": {},
   "outputs": [],
   "source": [
    "port_stem = PorterStemmer()"
   ]
  },
  {
   "cell_type": "code",
   "execution_count": 46,
   "id": "4030d732",
   "metadata": {},
   "outputs": [],
   "source": [
    "#creating a function stemming because it is not inbuilt\n",
    "\n",
    "def stemming(content):\n",
    "    stemmed_content = re.sub('[^a-zA-Z]',' ',content)\n",
    "    stemmed_content = stemmed_content.lower()\n",
    "    stemmed_content = stemmed_content.split()\n",
    "    stemmed_content = [port_stem.stem(word) for word in stemmed_content if not word in stopwords.words('english')]\n",
    "    stemmed_content = ' '.join(stemmed_content)\n",
    "    return stemmed_content"
   ]
  },
  {
   "cell_type": "code",
   "execution_count": 47,
   "id": "52f9c96b",
   "metadata": {},
   "outputs": [],
   "source": [
    "news_dataset['content'] = news_dataset['content'].apply(stemming)"
   ]
  },
  {
   "cell_type": "code",
   "execution_count": 48,
   "id": "3dbf017a",
   "metadata": {},
   "outputs": [],
   "source": [
    "#separating the data and label\n",
    "X = news_dataset['content'].values\n",
    "Y = news_dataset['label'].values"
   ]
  },
  {
   "cell_type": "code",
   "execution_count": 49,
   "id": "a9196438",
   "metadata": {},
   "outputs": [
    {
     "name": "stdout",
     "output_type": "stream",
     "text": [
      "['darrel lucu hou dem aid even see comey letter jason chaffetz tweet'\n",
      " 'daniel j flynn flynn hillari clinton big woman campu breitbart'\n",
      " 'consortiumnew com truth might get fire' ...\n",
      " 'michael j de la merc rachel abram maci said receiv takeov approach hudson bay new york time'\n",
      " 'alex ansari nato russia hold parallel exerci balkan'\n",
      " 'david swanson keep f aliv']\n",
      "['1' '0' '1' ... '0' '1' '1']\n"
     ]
    }
   ],
   "source": [
    "print(X)\n",
    "print(Y)"
   ]
  },
  {
   "cell_type": "code",
   "execution_count": 50,
   "id": "b30655f8",
   "metadata": {},
   "outputs": [],
   "source": [
    "# converting the textual data to numerical data\n",
    "vectorizer = TfidfVectorizer()\n",
    "vectorizer.fit(X)\n",
    "\n",
    "X = vectorizer.transform(X)"
   ]
  },
  {
   "cell_type": "code",
   "execution_count": 51,
   "id": "f81eb92f",
   "metadata": {},
   "outputs": [
    {
     "name": "stdout",
     "output_type": "stream",
     "text": [
      "  (0, 16917)\t0.2880854334390338\n",
      "  (0, 14506)\t0.24170537647240828\n",
      "  (0, 9593)\t0.36554380957366406\n",
      "  (0, 9290)\t0.29316509142349945\n",
      "  (0, 8294)\t0.25144197300521864\n",
      "  (0, 7531)\t0.21896464665093707\n",
      "  (0, 5315)\t0.22421109802197142\n",
      "  (0, 4053)\t0.27191930392178987\n",
      "  (0, 3845)\t0.3619018771847952\n",
      "  (0, 3160)\t0.2502144416754508\n",
      "  (0, 2655)\t0.36953309514559163\n",
      "  (0, 290)\t0.27111435953048824\n",
      "  (1, 18113)\t0.30210030198251686\n",
      "  (1, 7324)\t0.19482555405021912\n",
      "  (1, 5882)\t0.7182601539830337\n",
      "  (1, 3811)\t0.26710403088653173\n",
      "  (1, 3010)\t0.19578961228058397\n",
      "  (1, 2386)\t0.36872751620457817\n",
      "  (1, 2025)\t0.1612621074523253\n",
      "  (1, 1600)\t0.28850854083057703\n",
      "  (2, 16837)\t0.4150660858123297\n",
      "  (2, 10349)\t0.4757873319489284\n",
      "  (2, 6392)\t0.3373308801281171\n",
      "  (2, 5757)\t0.3938520403026429\n",
      "  (2, 3313)\t0.4735061475862881\n",
      "  :\t:\n",
      "  (25113, 14125)\t0.23517615875509928\n",
      "  (25113, 13288)\t0.26615394048073365\n",
      "  (25113, 13068)\t0.2510445370136946\n",
      "  (25113, 11091)\t0.08593839955446192\n",
      "  (25113, 10312)\t0.1783347670532336\n",
      "  (25113, 10231)\t0.2963727474148118\n",
      "  (25113, 9674)\t0.36314154254682707\n",
      "  (25113, 9009)\t0.22567775861351366\n",
      "  (25113, 7572)\t0.22170501356517855\n",
      "  (25113, 3893)\t0.2138107796482846\n",
      "  (25113, 1374)\t0.33292273561274893\n",
      "  (25113, 746)\t0.305078258621098\n",
      "  (25113, 50)\t0.29961517191662185\n",
      "  (25114, 14047)\t0.22678249995679425\n",
      "  (25114, 11896)\t0.43913659520232545\n",
      "  (25114, 10954)\t0.32229857515469124\n",
      "  (25114, 7406)\t0.3173446208314138\n",
      "  (25114, 5378)\t0.4106366484638114\n",
      "  (25114, 1206)\t0.4477091867359452\n",
      "  (25114, 632)\t0.3150505522876953\n",
      "  (25114, 378)\t0.28778802112656215\n",
      "  (25115, 16018)\t0.5778833559479472\n",
      "  (25115, 8664)\t0.44424508431121\n",
      "  (25115, 3868)\t0.3878802220711985\n",
      "  (25115, 409)\t0.5641330209353659\n"
     ]
    }
   ],
   "source": [
    "print(X)"
   ]
  },
  {
   "cell_type": "code",
   "execution_count": 52,
   "id": "317406ac",
   "metadata": {},
   "outputs": [
    {
     "data": {
      "text/plain": [
       "(25116,)"
      ]
     },
     "execution_count": 52,
     "metadata": {},
     "output_type": "execute_result"
    }
   ],
   "source": [
    "Y.shape"
   ]
  },
  {
   "cell_type": "markdown",
   "id": "0cef3ea4",
   "metadata": {},
   "source": [
    "## Splitting the dataset for training and testing \n"
   ]
  },
  {
   "cell_type": "code",
   "execution_count": 65,
   "id": "4ca517a6",
   "metadata": {},
   "outputs": [],
   "source": [
    "# Define the feature matrix X and the target variable Y\n",
    "X = np.array([[1, 2], [3, 4], [5, 6], [7, 8]])\n",
    "Y = np.array([0, 0, 1, 1])"
   ]
  },
  {
   "cell_type": "code",
   "execution_count": 67,
   "id": "3197748a",
   "metadata": {},
   "outputs": [
    {
     "name": "stdout",
     "output_type": "stream",
     "text": [
      "No classes with only one member found.\n"
     ]
    }
   ],
   "source": [
    "from sklearn.model_selection import train_test_split\n",
    "import numpy as np\n",
    "\n",
    "# Check the class distribution in Y\n",
    "unique_classes, class_counts = np.unique(Y, return_counts=True)\n",
    "\n",
    "# Find the class with only one member, if any\n",
    "classes_with_single_instance = unique_classes[class_counts == 1]\n",
    "if classes_with_single_instance.size > 0:\n",
    "    class_with_single_instance = classes_with_single_instance[0]\n",
    "\n",
    "    # Get the indices of instances belonging to the class with only one member\n",
    "    indices_to_remove = np.where(Y == class_with_single_instance)[0]\n",
    "\n",
    "    # Remove instances belonging to the class with only one member\n",
    "    if indices_to_remove.size > 0:\n",
    "        X_removed = np.delete(X, indices_to_remove, axis=0)\n",
    "        Y_removed = np.delete(Y, indices_to_remove)\n",
    "\n",
    "        # Perform train-test split on the updated data\n",
    "        X_train, X_test, Y_train, Y_test = train_test_split(X_removed, Y_removed, test_size=0.2, random_state=2)\n",
    "    else:\n",
    "        print(\"No instances remaining after removing the class with only one member.\")\n",
    "else:\n",
    "    print(\"No classes with only one member found.\")"
   ]
  },
  {
   "cell_type": "code",
   "execution_count": 70,
   "id": "e2a3e880",
   "metadata": {},
   "outputs": [],
   "source": [
    "from sklearn.model_selection import train_test_split\n",
    "from sklearn.linear_model import LogisticRegression\n",
    "\n",
    "# Split the data into training and testing sets (optional)\n",
    "X_train, X_test, Y_train, Y_test = train_test_split(X, Y, test_size=0.2, random_state=2)\n",
    "\n",
    "# Create an instance of the model (e.g., Logistic Regression)\n",
    "model = LogisticRegression()\n",
    "\n",
    "# Train the model on the training data\n",
    "model.fit(X_train, Y_train)\n",
    "\n",
    "# Perform predictions on the testing data\n",
    "Y_pred = model.predict(X_test)\n",
    "\n",
    "\n",
    "\n",
    "\n",
    "\n"
   ]
  },
  {
   "cell_type": "markdown",
   "id": "621ba7c0",
   "metadata": {},
   "source": [
    "### Training the model: Logistic Regression"
   ]
  },
  {
   "cell_type": "code",
   "execution_count": 71,
   "id": "a08f3f1f",
   "metadata": {},
   "outputs": [],
   "source": [
    "#load model in a variable\n",
    "model = LogisticRegression()"
   ]
  },
  {
   "cell_type": "code",
   "execution_count": 72,
   "id": "eaa7c17e",
   "metadata": {},
   "outputs": [
    {
     "data": {
      "text/html": [
       "<style>#sk-container-id-1 {color: black;background-color: white;}#sk-container-id-1 pre{padding: 0;}#sk-container-id-1 div.sk-toggleable {background-color: white;}#sk-container-id-1 label.sk-toggleable__label {cursor: pointer;display: block;width: 100%;margin-bottom: 0;padding: 0.3em;box-sizing: border-box;text-align: center;}#sk-container-id-1 label.sk-toggleable__label-arrow:before {content: \"▸\";float: left;margin-right: 0.25em;color: #696969;}#sk-container-id-1 label.sk-toggleable__label-arrow:hover:before {color: black;}#sk-container-id-1 div.sk-estimator:hover label.sk-toggleable__label-arrow:before {color: black;}#sk-container-id-1 div.sk-toggleable__content {max-height: 0;max-width: 0;overflow: hidden;text-align: left;background-color: #f0f8ff;}#sk-container-id-1 div.sk-toggleable__content pre {margin: 0.2em;color: black;border-radius: 0.25em;background-color: #f0f8ff;}#sk-container-id-1 input.sk-toggleable__control:checked~div.sk-toggleable__content {max-height: 200px;max-width: 100%;overflow: auto;}#sk-container-id-1 input.sk-toggleable__control:checked~label.sk-toggleable__label-arrow:before {content: \"▾\";}#sk-container-id-1 div.sk-estimator input.sk-toggleable__control:checked~label.sk-toggleable__label {background-color: #d4ebff;}#sk-container-id-1 div.sk-label input.sk-toggleable__control:checked~label.sk-toggleable__label {background-color: #d4ebff;}#sk-container-id-1 input.sk-hidden--visually {border: 0;clip: rect(1px 1px 1px 1px);clip: rect(1px, 1px, 1px, 1px);height: 1px;margin: -1px;overflow: hidden;padding: 0;position: absolute;width: 1px;}#sk-container-id-1 div.sk-estimator {font-family: monospace;background-color: #f0f8ff;border: 1px dotted black;border-radius: 0.25em;box-sizing: border-box;margin-bottom: 0.5em;}#sk-container-id-1 div.sk-estimator:hover {background-color: #d4ebff;}#sk-container-id-1 div.sk-parallel-item::after {content: \"\";width: 100%;border-bottom: 1px solid gray;flex-grow: 1;}#sk-container-id-1 div.sk-label:hover label.sk-toggleable__label {background-color: #d4ebff;}#sk-container-id-1 div.sk-serial::before {content: \"\";position: absolute;border-left: 1px solid gray;box-sizing: border-box;top: 0;bottom: 0;left: 50%;z-index: 0;}#sk-container-id-1 div.sk-serial {display: flex;flex-direction: column;align-items: center;background-color: white;padding-right: 0.2em;padding-left: 0.2em;position: relative;}#sk-container-id-1 div.sk-item {position: relative;z-index: 1;}#sk-container-id-1 div.sk-parallel {display: flex;align-items: stretch;justify-content: center;background-color: white;position: relative;}#sk-container-id-1 div.sk-item::before, #sk-container-id-1 div.sk-parallel-item::before {content: \"\";position: absolute;border-left: 1px solid gray;box-sizing: border-box;top: 0;bottom: 0;left: 50%;z-index: -1;}#sk-container-id-1 div.sk-parallel-item {display: flex;flex-direction: column;z-index: 1;position: relative;background-color: white;}#sk-container-id-1 div.sk-parallel-item:first-child::after {align-self: flex-end;width: 50%;}#sk-container-id-1 div.sk-parallel-item:last-child::after {align-self: flex-start;width: 50%;}#sk-container-id-1 div.sk-parallel-item:only-child::after {width: 0;}#sk-container-id-1 div.sk-dashed-wrapped {border: 1px dashed gray;margin: 0 0.4em 0.5em 0.4em;box-sizing: border-box;padding-bottom: 0.4em;background-color: white;}#sk-container-id-1 div.sk-label label {font-family: monospace;font-weight: bold;display: inline-block;line-height: 1.2em;}#sk-container-id-1 div.sk-label-container {text-align: center;}#sk-container-id-1 div.sk-container {/* jupyter's `normalize.less` sets `[hidden] { display: none; }` but bootstrap.min.css set `[hidden] { display: none !important; }` so we also need the `!important` here to be able to override the default hidden behavior on the sphinx rendered scikit-learn.org. See: https://github.com/scikit-learn/scikit-learn/issues/21755 */display: inline-block !important;position: relative;}#sk-container-id-1 div.sk-text-repr-fallback {display: none;}</style><div id=\"sk-container-id-1\" class=\"sk-top-container\"><div class=\"sk-text-repr-fallback\"><pre>LogisticRegression()</pre><b>In a Jupyter environment, please rerun this cell to show the HTML representation or trust the notebook. <br />On GitHub, the HTML representation is unable to render, please try loading this page with nbviewer.org.</b></div><div class=\"sk-container\" hidden><div class=\"sk-item\"><div class=\"sk-estimator sk-toggleable\"><input class=\"sk-toggleable__control sk-hidden--visually\" id=\"sk-estimator-id-1\" type=\"checkbox\" checked><label for=\"sk-estimator-id-1\" class=\"sk-toggleable__label sk-toggleable__label-arrow\">LogisticRegression</label><div class=\"sk-toggleable__content\"><pre>LogisticRegression()</pre></div></div></div></div></div>"
      ],
      "text/plain": [
       "LogisticRegression()"
      ]
     },
     "execution_count": 72,
     "metadata": {},
     "output_type": "execute_result"
    }
   ],
   "source": [
    "#training model\n",
    "model.fit(X_train, Y_train)"
   ]
  },
  {
   "cell_type": "markdown",
   "id": "4135fb35",
   "metadata": {},
   "source": [
    "## Evaluation and accuracy score "
   ]
  },
  {
   "cell_type": "code",
   "execution_count": 73,
   "id": "4d6dee34",
   "metadata": {},
   "outputs": [],
   "source": [
    "# accuracy score on the training data\n",
    "X_train_prediction = model.predict(X_train)\n",
    "training_data_accuracy = accuracy_score(X_train_prediction, Y_train)"
   ]
  },
  {
   "cell_type": "code",
   "execution_count": 74,
   "id": "bc9ecb0c",
   "metadata": {},
   "outputs": [
    {
     "name": "stdout",
     "output_type": "stream",
     "text": [
      "Accuracy score of the training data :  1.0\n"
     ]
    }
   ],
   "source": [
    "print('Accuracy score of the training data : ', training_data_accuracy)"
   ]
  },
  {
   "cell_type": "code",
   "execution_count": 75,
   "id": "bfa585d2",
   "metadata": {},
   "outputs": [],
   "source": [
    "# accuracy score on the test data\n",
    "X_test_prediction = model.predict(X_test)\n",
    "test_data_accuracy = accuracy_score(X_test_prediction, Y_test)"
   ]
  },
  {
   "cell_type": "code",
   "execution_count": 76,
   "id": "da50d1de",
   "metadata": {},
   "outputs": [
    {
     "name": "stdout",
     "output_type": "stream",
     "text": [
      "Accuracy score of the test data :  0.0\n"
     ]
    }
   ],
   "source": [
    "print('Accuracy score of the test data : ', test_data_accuracy)"
   ]
  },
  {
   "cell_type": "markdown",
   "id": "eb007156",
   "metadata": {},
   "source": [
    "## Making a predictive system "
   ]
  },
  {
   "cell_type": "code",
   "execution_count": 81,
   "id": "eb2cd03f",
   "metadata": {},
   "outputs": [
    {
     "name": "stdout",
     "output_type": "stream",
     "text": [
      "The news is Real\n"
     ]
    }
   ],
   "source": [
    "if len(X_test) > 0:\n",
    "    X_new = X_test[0]  # Access first instance in X_test\n",
    "    X_new = X_new.reshape(1, -1)  # Reshape data to match expected input shape of model\n",
    "    prediction = model.predict(X_new)\n",
    "    \n",
    "    if prediction[0] == 0:\n",
    "        print('The news is Real')\n",
    "    else:\n",
    "        print('The news is Fake')\n",
    "else:\n",
    "    print(\"No instances in the test data.\")"
   ]
  },
  {
   "cell_type": "code",
   "execution_count": null,
   "id": "74e4fc28",
   "metadata": {},
   "outputs": [],
   "source": []
  }
 ],
 "metadata": {
  "kernelspec": {
   "display_name": "Python 3 (ipykernel)",
   "language": "python",
   "name": "python3"
  },
  "language_info": {
   "codemirror_mode": {
    "name": "ipython",
    "version": 3
   },
   "file_extension": ".py",
   "mimetype": "text/x-python",
   "name": "python",
   "nbconvert_exporter": "python",
   "pygments_lexer": "ipython3",
   "version": "3.10.9"
  }
 },
 "nbformat": 4,
 "nbformat_minor": 5
}
